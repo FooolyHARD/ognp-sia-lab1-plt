{
  "nbformat": 4,
  "nbformat_minor": 0,
  "metadata": {
    "colab": {
      "provenance": [],
      "include_colab_link": true
    },
    "kernelspec": {
      "display_name": "Python 3",
      "language": "python",
      "name": "python3"
    },
    "language_info": {
      "codemirror_mode": {
        "name": "ipython",
        "version": 3
      },
      "file_extension": ".py",
      "mimetype": "text/x-python",
      "name": "python",
      "nbconvert_exporter": "python",
      "pygments_lexer": "ipython3",
      "version": "3.7.4"
    }
  },
  "cells": [
    {
      "cell_type": "markdown",
      "metadata": {
        "id": "view-in-github",
        "colab_type": "text"
      },
      "source": [
        "<a href=\"https://colab.research.google.com/github/FooolyHARD/ognp-sia-lab1-plt/blob/main/Konovalov_Arseny_Lab1.ipynb\" target=\"_parent\"><img src=\"https://colab.research.google.com/assets/colab-badge.svg\" alt=\"Open In Colab\"/></a>"
      ]
    },
    {
      "cell_type": "markdown",
      "metadata": {
        "id": "BsNwjQDRfmLY"
      },
      "source": [
        "# Задание 1 (numpy + matplotlib)"
      ]
    },
    {
      "cell_type": "markdown",
      "metadata": {
        "id": "wu6r1-s7fmLe"
      },
      "source": [
        "---"
      ]
    },
    {
      "cell_type": "markdown",
      "metadata": {
        "id": "zxRIdPO9gYyX"
      },
      "source": [
        "Напишите программу, которая будет решать систему линейных уравнений вида:\n",
        "\n",
        "\\begin{matrix} a_{11}x+a_{12}y=b_{1}&(1) \\\\ a_{21}x+a_{22}y=b_{2} &(2) \\end{matrix}\n",
        "​\t\n",
        "* На вход программа должна принимать 2 строки (т.е. должен быть реализован ввод с клавиатуры). Каждая строка содержит 3 действительных числа через пробел: коэффициенты a и b.\n",
        "* Систему уравнений необходимо решить \"матричным\" способом. Предусмотрите случаи, когда решения есть, решений нет, решений бесконечно много. Выведите ответ. Покажите решение на графике. Если решения есть, постройте график и точкой отметьте решение (если оно одно, например, функцией [`scatter`](https://matplotlib.org/stable/api/_as_gen/matplotlib.pyplot.scatter.html)). ГРАФИК СТРОИТСЯ ВО ВСЕХ ТРЕХ РАССМАТРИВАЕМЫХ СЛУЧАЯХ."
      ]
    },
    {
      "cell_type": "code",
      "metadata": {
        "id": "6sxlcLbVlrjl"
      },
      "source": [
        "#@title imports\n",
        "import numpy as np\n",
        "import matplotlib.pyplot as plt\n",
        "from numpy import float128"
      ],
      "execution_count": 7,
      "outputs": []
    },
    {
      "cell_type": "code",
      "source": [
        "from matplotlib.ticker import NullFormatter\n",
        "def function_y(a, b, c, value):\n",
        "    return (c - a * value) / b\n",
        "#@title insert lines\n",
        "#dropping needed symbols\n",
        "flag = True\n",
        "while (flag):\n",
        "  try:\n",
        "    #define first and second lines\n",
        "    print(\"Please enter first line:\")\n",
        "    first_line = input(str()).split()\n",
        "    print(\"Please enter second line:\")\n",
        "    second_line = input(str()).split()\n",
        "    a11 = float(first_line[0])\n",
        "    a12 = float(first_line[1])\n",
        "    b1 = float(first_line[2])\n",
        "    a21 = float(second_line[0])\n",
        "    a22 = float(second_line[1])\n",
        "    b2 = float(second_line[2])\n",
        "    flag = False\n",
        "  except ValueError:\n",
        "    print(\"Oops!  That was no valid number.  Try again...\")"
      ],
      "metadata": {
        "colab": {
          "base_uri": "https://localhost:8080/"
        },
        "id": "BmfXch63DFqN",
        "outputId": "5e7caf3b-d897-4f65-a9e2-16e35f9db036"
      },
      "execution_count": 23,
      "outputs": [
        {
          "name": "stdout",
          "output_type": "stream",
          "text": [
            "Please enter first line:\n",
            "a b c\n",
            "Please enter second line:\n",
            "1 2 3\n",
            "Oops!  That was no valid number.  Try again...\n",
            "Please enter first line:\n",
            "1 2 3\n",
            "Please enter second line:\n",
            "4 5 6\n"
          ]
        }
      ]
    },
    {
      "cell_type": "code",
      "source": [
        "#@title finding mats and dets\n",
        "mat1 = np.array([[a11, a12], [a21, a22]])\n",
        "det = np.linalg.det(mat1)\n",
        "mat2 = np.array([[b1, a12], [b2, a22]])\n",
        "det_x = np.linalg.det(mat2)\n",
        "mat3 = np.array([[a11, b1], [a21, b2]])\n",
        "det_y = np.linalg.det(mat3)\n"
      ],
      "metadata": {
        "id": "fH4Nm_ukIYVr"
      },
      "execution_count": 24,
      "outputs": []
    },
    {
      "cell_type": "code",
      "source": [
        "#@title building graphs for each solution\n",
        "#there are 3 types of solutions\n",
        "if det != 0: #success solution\n",
        "    x = det_x / det\n",
        "    y = det_y / det\n",
        "    print(\"x:= \" + str(x))\n",
        "    print(\"y:= \" + str(y))\n",
        "    point_x = [x]\n",
        "    point_y = [y]\n",
        "    plt.plot(point_x, point_y, color='pink', linestyle='dashed', linewidth=3,\n",
        "             marker='o', markersize=6, markerfacecolor='green',\n",
        "             markeredgecolor='green')\n",
        "    plt.grid()\n",
        "    plt.plot([-100, 100], [function_y(a11, a12, b1, -100), function_y(a11, a12, b1, 100)])\n",
        "    plt.plot([-100, 100], [function_y(a21, a22, b2, -100), function_y(a21, a22, b2, 100)])\n",
        "    ax = plt.gca()\n",
        "    ax.axhline(y=0, color='g')\n",
        "    ax.axvline(x=0, color='g')\n",
        "    plt.title(\"Solution of system\")\n",
        "    plt.xlabel(\"X\")\n",
        "    plt.ylabel(\"Y\")\n",
        "    plt.show()\n",
        "else: #not succes solution (inifinty solutions)\n",
        "    x = 1\n",
        "    y = (b1 - x * a11) / a12\n",
        "    if ((x * a21 + y * a22) == b2):\n",
        "        print(\"Infinite solutions\")\n",
        "        plt.plot([-100, 100], [function_y(a11, a12, b1, -100), function_y(a11, a12, b1, 100)])\n",
        "        ax = plt.gca()\n",
        "        ax.axhline(y=0, color='y')\n",
        "        ax.axvline(x=0, color='y')\n",
        "        plt.title(\"Infinite solutions\")\n",
        "        plt.show()\n",
        "    else: #last type of solutions - no solution\n",
        "        ax = plt.gca()\n",
        "        ax.axhline(y=0, color='r')\n",
        "        ax.axvline(x=0, color='r')\n",
        "        plt.title(\"No solutions\")\n",
        "        plt.show()\n",
        "        print(\"No solutions\")"
      ],
      "metadata": {
        "colab": {
          "base_uri": "https://localhost:8080/",
          "height": 330
        },
        "id": "qrH2qu-sIhN7",
        "outputId": "c796f269-8201-48b8-c150-de189d268b46"
      },
      "execution_count": 25,
      "outputs": [
        {
          "output_type": "stream",
          "name": "stdout",
          "text": [
            "x:= -1.0\n",
            "y:= 2.0000000000000004\n"
          ]
        },
        {
          "output_type": "display_data",
          "data": {
            "text/plain": [
              "<Figure size 432x288 with 1 Axes>"
            ],
            "image/png": "[encoded data removed]"
          },
          "metadata": {
            "needs_background": "light"
          }
        }
      ]
    },
    {
      "cell_type": "markdown",
      "metadata": {
        "id": "efml9GzISC9Q"
      },
      "source": [
        "# Задание 2 (pytorch + matplotlib)"
      ]
    },
    {
      "cell_type": "markdown",
      "metadata": {
        "id": "_hy7PFz031Wx"
      },
      "source": [
        "Пусть $f(x) = \\sin(x) * x$. Постройте график $f(x)$ и $\\frac{df(x)}{dx}$, для расчета производных воспользуйтесь методом `backward()` и matplotlib для построения графиков."
      ]
    },
    {
      "cell_type": "code",
      "metadata": {
        "id": "GPjLHMGNK_oG"
      },
      "source": [
        "#@title Imports\n",
        "import matplotlib.pyplot as plt\n",
        "import torch\n",
        "import numpy as np"
      ],
      "execution_count": 26,
      "outputs": []
    },
    {
      "cell_type": "code",
      "source": [
        "#@title Calculating\n",
        "flag = True\n",
        "while (flag):\n",
        "  try:\n",
        "    print(\"Please enter range:\")\n",
        "    line = input(str()).split()\n",
        "    a = float(line[0])\n",
        "    b = float(line[1])\n",
        "    flag = False\n",
        "  except ValueError:\n",
        "    print(\"Oops!  That was no valid number.  Try again...\")\n",
        "x = np.linspace(-a, b, 50)\n",
        "x_torch = torch.tensor(x, requires_grad=True)\n",
        "y_torch = torch.sin(x_torch) * x_torch\n",
        "y_torch.backward(torch.ones_like(x_torch)) #using backward\n",
        "\n",
        "plt.plot(x, y_torch.detach().numpy(), label='y')\n",
        "plt.plot(x, x_torch.grad.detach().numpy(), label='dy/dx')\n",
        "plt.legend()\n",
        "plt.title(\"Task 2\")\n",
        "\n",
        "ax = plt.gca()\n",
        "ax.axhline(y=0, color='k')\n",
        "ax.axvline(x=0, color='k')\n",
        "plt.show()"
      ],
      "metadata": {
        "colab": {
          "base_uri": "https://localhost:8080/",
          "height": 316
        },
        "id": "93amGr13N_Lk",
        "outputId": "30623ce3-0c5b-4e5c-a699-8e23f8aeab1f"
      },
      "execution_count": 29,
      "outputs": [
        {
          "name": "stdout",
          "output_type": "stream",
          "text": [
            "Please enter range:\n",
            " 10 10\n"
          ]
        },
        {
          "output_type": "display_data",
          "data": {
            "text/plain": [
              "<Figure size 432x288 with 1 Axes>"
            ],
            "image/png": "[encoded data removed]"
          },
          "metadata": {
            "needs_background": "light"
          }
        }
      ]
    }
  ]
}